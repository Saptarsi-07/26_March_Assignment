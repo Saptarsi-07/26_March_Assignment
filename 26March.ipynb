{
 "cells": [
  {
   "cell_type": "raw",
   "id": "fcb883e5-a526-4f11-8d56-3b61001fdf17",
   "metadata": {},
   "source": [
    "Q1) In Simple Linear Regression there is only one independent feature whereas in Multiple Linear Regression there is more than one \n",
    "    independent feature. For Example if any house predicting dataset has only house size feature then it is simple linear\n",
    "    regression but if multiple feature are present it becomes multiple linear regression."
   ]
  },
  {
   "cell_type": "raw",
   "id": "7ea5f9d7-68c5-4d6c-b40a-b27bd82d3934",
   "metadata": {},
   "source": [
    "Q2) The assumption in Linear regression is that we assume there exist a linear relation between independent and dependent \n",
    "    variable."
   ]
  },
  {
   "cell_type": "raw",
   "id": "90476655-ed05-469b-913e-c4cc9edb0f31",
   "metadata": {},
   "source": [
    "Q3) The slope basically shows the rate of change in one variable with respect to other, and the intercept is the value\n",
    "    of one variable when other is zero. For eg: If we take experience vs salary the rate of increment is slope and\n",
    "    the basic pay as a fresher is intercept."
   ]
  },
  {
   "cell_type": "raw",
   "id": "4f41ef60-5994-4de1-a8b0-b6f4336c8bfd",
   "metadata": {},
   "source": [
    "Q4) Gradient Descent is an iterative approach to minimise the cost function. "
   ]
  },
  {
   "cell_type": "raw",
   "id": "90daa8aa-8489-4853-8a52-e6b3f8a5a2a7",
   "metadata": {},
   "source": [
    "Q5) In Multiple linear Regression the dependent feature has linear relationship with the independent features.\n",
    "    It is different from simple linear regression because the variables involved are more than 1."
   ]
  },
  {
   "cell_type": "raw",
   "id": "151f3f25-9646-42d0-b72b-ce419d24bade",
   "metadata": {},
   "source": [
    "Q6) Multicollinearity occurs when two independent variable have high correlation with one another."
   ]
  },
  {
   "cell_type": "raw",
   "id": "14d028f9-f187-4fa5-9d61-7655e2f4b80a",
   "metadata": {},
   "source": [
    "Q7) Polynomial regression is a higher order regression model and Linear Regression is basically model with order 1."
   ]
  },
  {
   "cell_type": "raw",
   "id": "a3976de8-f567-48a6-86f4-ca3d39c485c4",
   "metadata": {},
   "source": [
    "Q8) Polynomial regression is used when the independent variable and dependent variable has high correlation but the \n",
    "    relationship is not linear rather is of higher degree."
   ]
  }
 ],
 "metadata": {
  "kernelspec": {
   "display_name": "Python 3 (ipykernel)",
   "language": "python",
   "name": "python3"
  },
  "language_info": {
   "codemirror_mode": {
    "name": "ipython",
    "version": 3
   },
   "file_extension": ".py",
   "mimetype": "text/x-python",
   "name": "python",
   "nbconvert_exporter": "python",
   "pygments_lexer": "ipython3",
   "version": "3.10.8"
  }
 },
 "nbformat": 4,
 "nbformat_minor": 5
}
